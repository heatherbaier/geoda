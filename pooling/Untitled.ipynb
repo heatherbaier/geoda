{
 "cells": [
  {
   "cell_type": "code",
   "execution_count": 1,
   "id": "a5a89b58",
   "metadata": {},
   "outputs": [],
   "source": [
    "from torchvision import transforms, models\n",
    "# from sklearn.manifold import TSNE\n",
    "from PIL import Image\n",
    "from torch import nn\n",
    "import pandas as pd\n",
    "import numpy as np\n",
    "import argparse\n",
    "import random\n",
    "import torch\n",
    "import time\n",
    "import copy\n",
    "import os\n",
    "\n",
    "from dataloader import *\n",
    "from utils import *\n",
    "\n",
    "import os\n",
    "os.environ[\"CUDA_DEVICE_ORDER\"] = \"PCI_BUS_ID\" \n",
    "os.environ[\"CUDA_VISIBLE_DEVICES\"] = \"7\""
   ]
  },
  {
   "cell_type": "code",
   "execution_count": 2,
   "id": "deef225d",
   "metadata": {},
   "outputs": [],
   "source": [
    "records_dir = 'test'\n",
    "os.mkdir(records_dir)\n",
    "os.mkdir(os.path.join(records_dir, \"models\"))  "
   ]
  },
  {
   "cell_type": "code",
   "execution_count": 3,
   "id": "bc2d27ae",
   "metadata": {},
   "outputs": [
    {
     "data": {
      "text/html": [
       "<div>\n",
       "<style scoped>\n",
       "    .dataframe tbody tr th:only-of-type {\n",
       "        vertical-align: middle;\n",
       "    }\n",
       "\n",
       "    .dataframe tbody tr th {\n",
       "        vertical-align: top;\n",
       "    }\n",
       "\n",
       "    .dataframe thead th {\n",
       "        text-align: right;\n",
       "    }\n",
       "</style>\n",
       "<table border=\"1\" class=\"dataframe\">\n",
       "  <thead>\n",
       "    <tr style=\"text-align: right;\">\n",
       "      <th></th>\n",
       "      <th>DHSID</th>\n",
       "      <th>DHSYEAR</th>\n",
       "      <th>DHSCLUST</th>\n",
       "      <th>survey</th>\n",
       "      <th>folder</th>\n",
       "      <th>buffer_siz</th>\n",
       "      <th>hv001</th>\n",
       "      <th>hv271</th>\n",
       "      <th>geometry</th>\n",
       "      <th>points</th>\n",
       "      <th>random_points</th>\n",
       "      <th>val</th>\n",
       "      <th>cumsum</th>\n",
       "      <th>longitude</th>\n",
       "      <th>latitude</th>\n",
       "      <th>iso2</th>\n",
       "      <th>class</th>\n",
       "      <th>jenks_class</th>\n",
       "      <th>wealth_class</th>\n",
       "    </tr>\n",
       "  </thead>\n",
       "  <tbody>\n",
       "    <tr>\n",
       "      <th>24120</th>\n",
       "      <td>HT200600000001</td>\n",
       "      <td>2006.0</td>\n",
       "      <td>1.0</td>\n",
       "      <td>222</td>\n",
       "      <td>HTGE52FL</td>\n",
       "      <td>5</td>\n",
       "      <td>1</td>\n",
       "      <td>11588.076923</td>\n",
       "      <td>POLYGON ((-74.2636224219644 18.58489728485856,...</td>\n",
       "      <td>10</td>\n",
       "      <td>(-74.27848710579512, 18.536657860403118)</td>\n",
       "      <td>1</td>\n",
       "      <td>1</td>\n",
       "      <td>-74.278487</td>\n",
       "      <td>18.536658</td>\n",
       "      <td>HT</td>\n",
       "      <td>(-295754.146, 212834.062]</td>\n",
       "      <td>2</td>\n",
       "      <td>2</td>\n",
       "    </tr>\n",
       "    <tr>\n",
       "      <th>24121</th>\n",
       "      <td>HT200600000001</td>\n",
       "      <td>2006.0</td>\n",
       "      <td>1.0</td>\n",
       "      <td>222</td>\n",
       "      <td>HTGE52FL</td>\n",
       "      <td>5</td>\n",
       "      <td>1</td>\n",
       "      <td>11588.076923</td>\n",
       "      <td>POLYGON ((-74.2636224219644 18.58489728485856,...</td>\n",
       "      <td>10</td>\n",
       "      <td>(-74.27025761210759, 18.545985153645116)</td>\n",
       "      <td>1</td>\n",
       "      <td>2</td>\n",
       "      <td>-74.270258</td>\n",
       "      <td>18.545985</td>\n",
       "      <td>HT</td>\n",
       "      <td>(-295754.146, 212834.062]</td>\n",
       "      <td>2</td>\n",
       "      <td>2</td>\n",
       "    </tr>\n",
       "    <tr>\n",
       "      <th>24122</th>\n",
       "      <td>HT200600000001</td>\n",
       "      <td>2006.0</td>\n",
       "      <td>1.0</td>\n",
       "      <td>222</td>\n",
       "      <td>HTGE52FL</td>\n",
       "      <td>5</td>\n",
       "      <td>1</td>\n",
       "      <td>11588.076923</td>\n",
       "      <td>POLYGON ((-74.2636224219644 18.58489728485856,...</td>\n",
       "      <td>10</td>\n",
       "      <td>(-74.30264405930176, 18.559220088841535)</td>\n",
       "      <td>1</td>\n",
       "      <td>3</td>\n",
       "      <td>-74.302644</td>\n",
       "      <td>18.559220</td>\n",
       "      <td>HT</td>\n",
       "      <td>(-295754.146, 212834.062]</td>\n",
       "      <td>2</td>\n",
       "      <td>2</td>\n",
       "    </tr>\n",
       "    <tr>\n",
       "      <th>24123</th>\n",
       "      <td>HT200600000001</td>\n",
       "      <td>2006.0</td>\n",
       "      <td>1.0</td>\n",
       "      <td>222</td>\n",
       "      <td>HTGE52FL</td>\n",
       "      <td>5</td>\n",
       "      <td>1</td>\n",
       "      <td>11588.076923</td>\n",
       "      <td>POLYGON ((-74.2636224219644 18.58489728485856,...</td>\n",
       "      <td>10</td>\n",
       "      <td>(-74.28281896593455, 18.576832720091083)</td>\n",
       "      <td>1</td>\n",
       "      <td>4</td>\n",
       "      <td>-74.282819</td>\n",
       "      <td>18.576833</td>\n",
       "      <td>HT</td>\n",
       "      <td>(-295754.146, 212834.062]</td>\n",
       "      <td>2</td>\n",
       "      <td>2</td>\n",
       "    </tr>\n",
       "    <tr>\n",
       "      <th>24124</th>\n",
       "      <td>HT200600000001</td>\n",
       "      <td>2006.0</td>\n",
       "      <td>1.0</td>\n",
       "      <td>222</td>\n",
       "      <td>HTGE52FL</td>\n",
       "      <td>5</td>\n",
       "      <td>1</td>\n",
       "      <td>11588.076923</td>\n",
       "      <td>POLYGON ((-74.2636224219644 18.58489728485856,...</td>\n",
       "      <td>10</td>\n",
       "      <td>(-74.28183772482326, 18.578955152011318)</td>\n",
       "      <td>1</td>\n",
       "      <td>5</td>\n",
       "      <td>-74.281838</td>\n",
       "      <td>18.578955</td>\n",
       "      <td>HT</td>\n",
       "      <td>(-295754.146, 212834.062]</td>\n",
       "      <td>2</td>\n",
       "      <td>2</td>\n",
       "    </tr>\n",
       "  </tbody>\n",
       "</table>\n",
       "</div>"
      ],
      "text/plain": [
       "                DHSID  DHSYEAR  DHSCLUST  survey    folder  buffer_siz  hv001  \\\n",
       "24120  HT200600000001   2006.0       1.0     222  HTGE52FL           5      1   \n",
       "24121  HT200600000001   2006.0       1.0     222  HTGE52FL           5      1   \n",
       "24122  HT200600000001   2006.0       1.0     222  HTGE52FL           5      1   \n",
       "24123  HT200600000001   2006.0       1.0     222  HTGE52FL           5      1   \n",
       "24124  HT200600000001   2006.0       1.0     222  HTGE52FL           5      1   \n",
       "\n",
       "              hv271                                           geometry  \\\n",
       "24120  11588.076923  POLYGON ((-74.2636224219644 18.58489728485856,...   \n",
       "24121  11588.076923  POLYGON ((-74.2636224219644 18.58489728485856,...   \n",
       "24122  11588.076923  POLYGON ((-74.2636224219644 18.58489728485856,...   \n",
       "24123  11588.076923  POLYGON ((-74.2636224219644 18.58489728485856,...   \n",
       "24124  11588.076923  POLYGON ((-74.2636224219644 18.58489728485856,...   \n",
       "\n",
       "       points                             random_points  val  cumsum  \\\n",
       "24120      10  (-74.27848710579512, 18.536657860403118)    1       1   \n",
       "24121      10  (-74.27025761210759, 18.545985153645116)    1       2   \n",
       "24122      10  (-74.30264405930176, 18.559220088841535)    1       3   \n",
       "24123      10  (-74.28281896593455, 18.576832720091083)    1       4   \n",
       "24124      10  (-74.28183772482326, 18.578955152011318)    1       5   \n",
       "\n",
       "       longitude   latitude iso2                      class  jenks_class  \\\n",
       "24120 -74.278487  18.536658   HT  (-295754.146, 212834.062]            2   \n",
       "24121 -74.270258  18.545985   HT  (-295754.146, 212834.062]            2   \n",
       "24122 -74.302644  18.559220   HT  (-295754.146, 212834.062]            2   \n",
       "24123 -74.282819  18.576833   HT  (-295754.146, 212834.062]            2   \n",
       "24124 -74.281838  18.578955   HT  (-295754.146, 212834.062]            2   \n",
       "\n",
       "       wealth_class  \n",
       "24120             2  \n",
       "24121             2  \n",
       "24122             2  \n",
       "24123             2  \n",
       "24124             2  "
      ]
     },
     "execution_count": 3,
     "metadata": {},
     "output_type": "execute_result"
    }
   ],
   "source": [
    "t = pd.read_csv(\"../../clean_data/wealth_random_points_cumsum_jenks.csv\")\n",
    "t = t[t[\"iso2\"] == \"HT\"]\n",
    "t.head()"
   ]
  },
  {
   "cell_type": "code",
   "execution_count": 4,
   "id": "d3283667",
   "metadata": {},
   "outputs": [
    {
     "data": {
      "text/plain": [
       "1    1800\n",
       "3     790\n",
       "2     540\n",
       "0     140\n",
       "Name: wealth_class, dtype: int64"
      ]
     },
     "execution_count": 4,
     "metadata": {},
     "output_type": "execute_result"
    }
   ],
   "source": [
    "t[\"wealth_class\"].value_counts()"
   ]
  },
  {
   "cell_type": "code",
   "execution_count": 5,
   "id": "67bc5a35",
   "metadata": {},
   "outputs": [],
   "source": [
    "ecup = f\"../../imagery/HT/\""
   ]
  },
  {
   "cell_type": "code",
   "execution_count": 11,
   "id": "f0dba81c",
   "metadata": {},
   "outputs": [],
   "source": [
    "image_names = [ecup + _ for _ in os.listdir(ecup)]\n",
    "\n",
    "# with open(f\"./ht_v2/valimages.txt\", \"r\") as f:\n",
    "#     image_names = f.read().splitlines()\n",
    "# image_names = [i for i in image_names if \".ipynb\" not in i]\n",
    "\n",
    "data = Dataloader(image_names, \"../../clean_data/wealth_random_points_cumsum_jenks.csv\", records_dir, batch_size = 32)"
   ]
  },
  {
   "cell_type": "code",
   "execution_count": 12,
   "id": "83e03d2d",
   "metadata": {},
   "outputs": [],
   "source": [
    "device = \"cuda\"\n",
    "model_ft = models.resnet50(pretrained = True)\n",
    "num_ftrs = model_ft.fc.in_features\n",
    "model_ft.fc = nn.Linear(num_ftrs, 4)\n",
    "model_ft = model_ft.to(device)\n",
    "criterion = nn.CrossEntropyLoss()\n",
    "optimizer_ft = torch.optim.Adam(model_ft.parameters(), lr=0.0001)\n",
    "exp_lr_scheduler = torch.optim.lr_scheduler.StepLR(optimizer_ft, step_size=7, gamma=0.1)    "
   ]
  },
  {
   "cell_type": "code",
   "execution_count": 15,
   "id": "bae4048a",
   "metadata": {},
   "outputs": [],
   "source": [
    "# inp, out = data.load_data(1)\n",
    "# inp = inp.to(device)\n",
    "# # inp"
   ]
  },
  {
   "cell_type": "code",
   "execution_count": 16,
   "id": "4854cc8d",
   "metadata": {},
   "outputs": [],
   "source": [
    "# torch.max(w(inp), 1)"
   ]
  },
  {
   "cell_type": "code",
   "execution_count": 17,
   "id": "f4c89c6f",
   "metadata": {},
   "outputs": [
    {
     "data": {
      "text/plain": [
       "\"\\ntorch.return_types.max(\\nvalues=tensor([1.1792, 2.1368, 1.0662, 1.2713, 1.8283, 0.8798, 1.6577, 1.2981, 1.2897,\\n        3.3371, 1.8538, 1.2088, 1.5757, 1.4533, 0.6662, 3.4274, 1.7795, 1.5605,\\n        0.6932, 0.9968, 1.0821, 1.0260, 1.7533, 0.6047, 0.9628, 1.4067, 0.7750,\\n        1.8818, 3.5705, 1.3958, 2.2733, 1.1322], device='cuda:0',\\n       grad_fn=<MaxBackward0>),\\nindices=tensor([1, 3, 1, 1, 1, 1, 1, 1, 1, 3, 1, 1, 1, 1, 1, 3, 1, 1, 1, 3, 1, 1, 1, 1,\\n        2, 1, 1, 1, 3, 1, 1, 1], device='cuda:0'))\\n\""
      ]
     },
     "execution_count": 17,
     "metadata": {},
     "output_type": "execute_result"
    }
   ],
   "source": [
    "\"\"\"\n",
    "torch.return_types.max(\n",
    "values=tensor([1.1792, 2.1368, 1.0662, 1.2713, 1.8283, 0.8798, 1.6577, 1.2981, 1.2897,\n",
    "        3.3371, 1.8538, 1.2088, 1.5757, 1.4533, 0.6662, 3.4274, 1.7795, 1.5605,\n",
    "        0.6932, 0.9968, 1.0821, 1.0260, 1.7533, 0.6047, 0.9628, 1.4067, 0.7750,\n",
    "        1.8818, 3.5705, 1.3958, 2.2733, 1.1322], device='cuda:0',\n",
    "       grad_fn=<MaxBackward0>),\n",
    "indices=tensor([1, 3, 1, 1, 1, 1, 1, 1, 1, 3, 1, 1, 1, 1, 1, 3, 1, 1, 1, 3, 1, 1, 1, 1,\n",
    "        2, 1, 1, 1, 3, 1, 1, 1], device='cuda:0'))\n",
    "\"\"\""
   ]
  },
  {
   "cell_type": "code",
   "execution_count": 18,
   "id": "5cc1c19f",
   "metadata": {},
   "outputs": [],
   "source": [
    "# torch.save({\n",
    "# #         'epoch': epoch,\n",
    "#         'model_state_dict': w.state_dict(),\n",
    "# #         'optimizer_state_dict': optimizer.state_dict(),\n",
    "#         'loss': criterion,\n",
    "#     }, f\"./test/model_epoch1.torch\")"
   ]
  },
  {
   "cell_type": "code",
   "execution_count": 19,
   "id": "07b3fe83",
   "metadata": {},
   "outputs": [],
   "source": [
    "import joblib\n",
    "\n",
    "\n",
    "model_ft = joblib.load(\"./ht_v4/models/model_epoch0.sav\")\n",
    "model_ft.eval();"
   ]
  },
  {
   "cell_type": "code",
   "execution_count": 20,
   "id": "b29f3787",
   "metadata": {},
   "outputs": [],
   "source": [
    "# testm = torch.load(\"./ht_v2/models/model_epoch0.torch\")[\"model_state_dict\"]\n",
    "# model_ft.load_state_dict(testm)\n",
    "# model_ft.eval()"
   ]
  },
  {
   "cell_type": "code",
   "execution_count": 22,
   "id": "26dd3c56",
   "metadata": {},
   "outputs": [],
   "source": [
    "# inp.shape"
   ]
  },
  {
   "cell_type": "code",
   "execution_count": 31,
   "id": "30e0de2c",
   "metadata": {},
   "outputs": [
    {
     "data": {
      "text/plain": [
       "torch.Size([64, 3, 7, 7])"
      ]
     },
     "execution_count": 31,
     "metadata": {},
     "output_type": "execute_result"
    }
   ],
   "source": [
    "model_ft.conv1.weight.shape"
   ]
  },
  {
   "cell_type": "code",
   "execution_count": 27,
   "id": "d11cb847",
   "metadata": {},
   "outputs": [
    {
     "name": "stdout",
     "output_type": "stream",
     "text": [
      "tensor([1, 1, 1, 1, 1, 3, 1, 1, 1, 1, 3, 1, 1, 1, 1, 1, 1, 1, 1, 1, 3, 1, 1, 1,\n",
      "        3, 1, 1, 1, 3, 1, 1, 1], device='cuda:0') tensor([2, 1, 1, 3, 1, 3, 2, 0, 2, 3, 3, 2, 1, 2, 1, 3, 1, 1, 2, 1, 3, 1, 1, 1,\n",
      "        3, 1, 1, 1, 1, 1, 3, 1], device='cuda:0')\n",
      "tensor(20, device='cuda:0') \n",
      "\n",
      "\n",
      "tensor([3, 1, 1, 3, 3, 3, 1, 1, 3, 1, 1, 1, 1, 3, 1, 1, 1, 1, 1, 1, 3, 1, 1, 1,\n",
      "        1, 1, 1, 1, 1, 1, 1, 1], device='cuda:0') tensor([3, 2, 1, 3, 3, 3, 2, 1, 1, 3, 1, 1, 2, 3, 3, 1, 1, 1, 1, 1, 2, 1, 1, 0,\n",
      "        2, 1, 1, 3, 1, 2, 3, 1], device='cuda:0')\n",
      "tensor(20, device='cuda:0') \n",
      "\n",
      "\n",
      "tensor([1, 1, 1, 1, 1, 1, 1, 1, 1, 1, 1, 3, 3, 3, 1, 1, 1, 3, 1, 1, 1, 1, 3, 1,\n",
      "        1, 1, 1, 1, 1, 1, 1, 1], device='cuda:0') tensor([1, 2, 2, 1, 0, 1, 3, 2, 2, 1, 3, 3, 2, 3, 2, 2, 3, 1, 1, 3, 1, 1, 2, 1,\n",
      "        0, 2, 3, 2, 2, 0, 3, 1], device='cuda:0')\n",
      "tensor(11, device='cuda:0') \n",
      "\n",
      "\n",
      "tensor([1, 1, 1, 1, 1, 1, 1, 1, 1, 3, 1, 1, 1, 1, 1, 1, 1, 3, 1, 3, 1, 3, 1, 1,\n",
      "        1, 1, 1, 1, 1, 1, 3, 1], device='cuda:0') tensor([1, 1, 1, 1, 1, 1, 2, 3, 2, 3, 2, 3, 1, 2, 1, 1, 2, 2, 2, 3, 1, 1, 2, 1,\n",
      "        0, 1, 1, 2, 1, 1, 2, 1], device='cuda:0')\n",
      "tensor(18, device='cuda:0') \n",
      "\n",
      "\n",
      "tensor([1, 1, 1, 3, 1, 1, 1, 3, 1, 1, 1, 1, 1, 3, 1, 1, 1, 1, 1, 1, 1, 3, 3, 3,\n",
      "        1, 1, 3, 1, 1, 3, 3, 1], device='cuda:0') tensor([1, 1, 1, 2, 1, 1, 1, 3, 2, 1, 1, 0, 1, 3, 1, 1, 1, 1, 1, 1, 2, 3, 1, 2,\n",
      "        1, 1, 2, 1, 1, 3, 1, 1], device='cuda:0')\n",
      "tensor(24, device='cuda:0') \n",
      "\n",
      "\n",
      "tensor([1, 1, 1, 3, 1, 1, 1, 3, 1, 1, 1, 1, 1, 1, 1, 1, 1, 1, 1, 1, 3, 1, 3, 1,\n",
      "        1, 1, 1, 1, 1, 1, 1, 1], device='cuda:0') tensor([2, 1, 2, 3, 1, 3, 1, 3, 1, 3, 1, 2, 1, 1, 1, 2, 1, 3, 1, 1, 3, 1, 3, 2,\n",
      "        2, 2, 1, 2, 1, 2, 1, 1], device='cuda:0')\n",
      "tensor(20, device='cuda:0') \n",
      "\n",
      "\n",
      "tensor([3, 1, 1, 3, 1, 1, 3, 1, 1, 3, 3, 1, 1, 1, 1, 1, 1, 1, 3, 3, 1, 1, 1, 3,\n",
      "        1, 1, 1, 1, 1, 1, 1, 1], device='cuda:0') tensor([3, 3, 2, 3, 2, 1, 3, 1, 2, 3, 3, 2, 2, 1, 0, 1, 1, 3, 3, 3, 1, 1, 1, 3,\n",
      "        1, 1, 1, 2, 2, 3, 3, 2], device='cuda:0')\n",
      "tensor(19, device='cuda:0') \n",
      "\n",
      "\n",
      "tensor([1, 1, 1, 1, 1, 1, 1, 1, 1, 1, 1, 1, 1, 1, 1, 3, 1, 1, 1, 3, 1, 1, 3, 1,\n",
      "        1, 3, 3, 1, 1, 3, 1, 1], device='cuda:0') tensor([1, 1, 2, 1, 2, 0, 2, 3, 1, 2, 1, 1, 1, 1, 1, 1, 1, 1, 1, 3, 3, 2, 3, 0,\n",
      "        2, 3, 3, 1, 1, 3, 1, 1], device='cuda:0')\n",
      "tensor(21, device='cuda:0') \n",
      "\n",
      "\n",
      "tensor([1, 1, 1, 1, 1, 1, 3, 1, 1, 3, 1, 3, 1, 3, 1, 1, 1, 3, 1, 1, 1, 1, 1, 1,\n",
      "        1, 1, 3, 1, 3, 1, 1, 1], device='cuda:0') tensor([1, 1, 1, 2, 1, 2, 3, 1, 1, 3, 1, 3, 1, 3, 2, 1, 1, 3, 0, 2, 1, 2, 1, 2,\n",
      "        1, 1, 1, 1, 2, 1, 1, 1], device='cuda:0')\n",
      "tensor(23, device='cuda:0') \n",
      "\n",
      "\n",
      "tensor([1, 1, 3, 1, 1, 1, 1, 1, 1, 1, 1, 1, 1, 3, 1, 1, 1, 1, 1, 1, 3, 1, 1, 1,\n",
      "        1, 1, 3, 3, 3, 1, 1, 1], device='cuda:0') tensor([1, 1, 3, 1, 1, 1, 2, 1, 1, 1, 1, 3, 1, 3, 1, 1, 3, 1, 3, 2, 3, 1, 1, 1,\n",
      "        1, 1, 3, 3, 3, 1, 1, 2], device='cuda:0')\n",
      "tensor(26, device='cuda:0') \n",
      "\n",
      "\n"
     ]
    }
   ],
   "source": [
    "for i in range(0, 10):\n",
    "    inp, out = data.load_data(i, \"train\")\n",
    "    inp, out = inp.to(device), out.to(device)\n",
    "    preds = torch.max(model_ft(inp), 1)[1]\n",
    "    print(preds, out)\n",
    "    print(torch.sum(preds == out.data), \"\\n\\n\")"
   ]
  },
  {
   "cell_type": "code",
   "execution_count": null,
   "id": "f9dd0230",
   "metadata": {},
   "outputs": [],
   "source": []
  }
 ],
 "metadata": {
  "kernelspec": {
   "display_name": "caoe",
   "language": "python",
   "name": "caoe"
  },
  "language_info": {
   "codemirror_mode": {
    "name": "ipython",
    "version": 3
   },
   "file_extension": ".py",
   "mimetype": "text/x-python",
   "name": "python",
   "nbconvert_exporter": "python",
   "pygments_lexer": "ipython3",
   "version": "3.9.12"
  }
 },
 "nbformat": 4,
 "nbformat_minor": 5
}
