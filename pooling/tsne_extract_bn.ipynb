{
 "cells": [
  {
   "cell_type": "code",
   "execution_count": 1,
   "id": "403fa7f2",
   "metadata": {},
   "outputs": [],
   "source": [
    "from torchvision import transforms, models\n",
    "# from sklearn.manifold import TSNE\n",
    "from PIL import Image\n",
    "from torch import nn\n",
    "import pandas as pd\n",
    "import numpy as np\n",
    "import argparse\n",
    "import random\n",
    "import torch\n",
    "import time\n",
    "import copy\n",
    "import os\n",
    "\n",
    "from dataloader import *\n",
    "from utils import *\n",
    "\n",
    "import os\n",
    "os.environ[\"CUDA_DEVICE_ORDER\"] = \"PCI_BUS_ID\" \n",
    "os.environ[\"CUDA_VISIBLE_DEVICES\"] = \"1\""
   ]
  },
  {
   "cell_type": "code",
   "execution_count": 2,
   "id": "c90530b3",
   "metadata": {},
   "outputs": [],
   "source": [
    "activation = {}\n",
    "def getActivation(name):\n",
    "    # the hook signature\n",
    "    def hook(model, input, output):\n",
    "#         print(input)\n",
    "        activation[name] = input[0].detach()\n",
    "    return hook"
   ]
  },
  {
   "cell_type": "code",
   "execution_count": 3,
   "id": "2d833d01",
   "metadata": {},
   "outputs": [],
   "source": [
    "model = models.resnet18(pretrained = True)\n",
    "model.fc.register_forward_hook(getActivation('fc'))\n",
    "model = model.to(\"cuda\")"
   ]
  },
  {
   "cell_type": "code",
   "execution_count": 4,
   "id": "f9ffefd0",
   "metadata": {},
   "outputs": [],
   "source": [
    "ecup = f\"../../imagery/{'CO'}/\"\n",
    "image_names = [ecup + _ for _ in os.listdir(ecup)]\n",
    "data = Dataloader(image_names, \"../../clean_data/wealth_random_points_cumsum_jenks.csv\", \"test\", batch_size = 32)"
   ]
  },
  {
   "cell_type": "code",
   "execution_count": 5,
   "id": "20cdb758",
   "metadata": {},
   "outputs": [],
   "source": [
    "all_stds, all_means = [], []\n",
    "all_stats = []\n",
    "\n",
    "for batch in range(data.get_num(\"train\") - 1):\n",
    "# for batch in range(50):\n",
    "\n",
    "    try:\n",
    "\n",
    "        feats = model(data.load_data(batch, \"train\")[0].to(\"cuda\"))\n",
    "        batch_fc = activation[\"fc\"].detach().cpu().numpy()\n",
    "        stds = np.std(batch_fc, 0)\n",
    "        means = np.mean(batch_fc, 0)\n",
    "        all_stds.append(stds)\n",
    "        all_means.append(means)\n",
    "        all_stats.append(np.concatenate([stds, means]))\n",
    "        \n",
    "    except:\n",
    "            \n",
    "        pass\n",
    "\n",
    "# country_feats[country].append(activation[\"fc\"][0].detach().cpu().numpy())"
   ]
  },
  {
   "cell_type": "code",
   "execution_count": 6,
   "id": "72dcc3cc",
   "metadata": {},
   "outputs": [],
   "source": [
    "from sklearn.manifold import TSNE"
   ]
  },
  {
   "cell_type": "code",
   "execution_count": 7,
   "id": "baf1ba0d",
   "metadata": {},
   "outputs": [],
   "source": [
    "all_stats = np.array(all_stats)"
   ]
  },
  {
   "cell_type": "code",
   "execution_count": 8,
   "id": "fca3b4da",
   "metadata": {},
   "outputs": [],
   "source": [
    "pd.DataFrame(all_stats).to_csv(\"./CO_stats.csv\", index = False)"
   ]
  },
  {
   "cell_type": "code",
   "execution_count": 9,
   "id": "674d98c0",
   "metadata": {},
   "outputs": [],
   "source": [
    "# all_stats.shape"
   ]
  },
  {
   "cell_type": "code",
   "execution_count": 10,
   "id": "2df4f2a7",
   "metadata": {},
   "outputs": [],
   "source": [
    "# tsne = TSNE(n_components = 2)\n",
    "# values = all_stats\n",
    "# print(values.shape)\n",
    "# tsne_vals = tsne.fit_transform(np.array(values))"
   ]
  },
  {
   "cell_type": "code",
   "execution_count": 11,
   "id": "6f081660",
   "metadata": {},
   "outputs": [],
   "source": [
    "# pd.DataFrame(tsne_vals).to_csv(\"./tfeats.csv\", index = False)"
   ]
  },
  {
   "cell_type": "code",
   "execution_count": 12,
   "id": "5585e0a0",
   "metadata": {},
   "outputs": [],
   "source": [
    "# feats = pd.DataFrame(tsne_vals)\n",
    "# feats = feats.rename(columns = {0: \"tsne0\", 1: \"tsne1\"})\n",
    "# feats.head()"
   ]
  },
  {
   "cell_type": "code",
   "execution_count": 13,
   "id": "bba4efde",
   "metadata": {},
   "outputs": [],
   "source": [
    "# import matplotlib.pyplot as plt"
   ]
  },
  {
   "cell_type": "code",
   "execution_count": 14,
   "id": "fb8ad2e4",
   "metadata": {},
   "outputs": [],
   "source": [
    "# plt.scatter(x = feats[\"tsne0\"], y = feats[\"tsne1\"], s = 2)"
   ]
  },
  {
   "cell_type": "code",
   "execution_count": null,
   "id": "fbad1c6e",
   "metadata": {},
   "outputs": [],
   "source": []
  }
 ],
 "metadata": {
  "kernelspec": {
   "display_name": "caoe",
   "language": "python",
   "name": "caoe"
  },
  "language_info": {
   "codemirror_mode": {
    "name": "ipython",
    "version": 3
   },
   "file_extension": ".py",
   "mimetype": "text/x-python",
   "name": "python",
   "nbconvert_exporter": "python",
   "pygments_lexer": "ipython3",
   "version": "3.9.12"
  }
 },
 "nbformat": 4,
 "nbformat_minor": 5
}
